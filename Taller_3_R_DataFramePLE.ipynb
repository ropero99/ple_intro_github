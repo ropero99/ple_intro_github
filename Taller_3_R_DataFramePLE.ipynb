{
  "nbformat": 4,
  "nbformat_minor": 0,
  "metadata": {
    "colab": {
      "provenance": []
    },
    "kernelspec": {
      "name": "ir",
      "display_name": "R"
    },
    "language_info": {
      "name": "R"
    }
  },
  "cells": [
    {
      "cell_type": "markdown",
      "source": [
        "##Taller N°3: Manejo de DataFrame en R\n",
        "\n",
        "---\n",
        "\n",
        "\n",
        "#### Jose Luis Ropero Lozano"
      ],
      "metadata": {
        "id": "BAiDvXyjHo9I"
      }
    },
    {
      "cell_type": "code",
      "source": [
        "# Crear el DataFrame en R\n",
        "conos <- data.frame(\n",
        "  Sabor = c('mora', 'vainilla', 'chocolate', 'mora', 'chocolate'),\n",
        "  Precio = c(3500, 4700, 6500, 5200, 5700)\n",
        ")\n",
        "\n",
        "# Mostrar el DataFrame\n",
        "print(conos)\n"
      ],
      "metadata": {
        "colab": {
          "base_uri": "https://localhost:8080/"
        },
        "id": "BEyPf596Hokj",
        "outputId": "f0806274-2da2-4e36-9341-0adef378ccb1"
      },
      "execution_count": 28,
      "outputs": [
        {
          "output_type": "stream",
          "name": "stdout",
          "text": [
            "      Sabor Precio\n",
            "1      mora   3500\n",
            "2  vainilla   4700\n",
            "3 chocolate   6500\n",
            "4      mora   5200\n",
            "5      mora   4000\n",
            "6 chocolate   5700\n"
          ]
        }
      ]
    },
    {
      "cell_type": "markdown",
      "source": [
        "# Ordenamiento y exploracion del DataFrame"
      ],
      "metadata": {
        "id": "Jn9eMyzKK4eP"
      }
    },
    {
      "cell_type": "code",
      "source": [
        "# Mostrar una variable del DF\n",
        "conos[\"Sabor\"]"
      ],
      "metadata": {
        "colab": {
          "base_uri": "https://localhost:8080/",
          "height": 290
        },
        "id": "EgUOcTiLH-NV",
        "outputId": "10e586f9-e239-47d0-88d1-01459f391454"
      },
      "execution_count": null,
      "outputs": [
        {
          "output_type": "display_data",
          "data": {
            "text/html": [
              "<table class=\"dataframe\">\n",
              "<caption>A data.frame: 5 × 1</caption>\n",
              "<thead>\n",
              "\t<tr><th scope=col>Sabor</th></tr>\n",
              "\t<tr><th scope=col>&lt;chr&gt;</th></tr>\n",
              "</thead>\n",
              "<tbody>\n",
              "\t<tr><td>mora     </td></tr>\n",
              "\t<tr><td>vainilla </td></tr>\n",
              "\t<tr><td>chocolate</td></tr>\n",
              "\t<tr><td>mora     </td></tr>\n",
              "\t<tr><td>chocolate</td></tr>\n",
              "</tbody>\n",
              "</table>\n"
            ],
            "text/markdown": "\nA data.frame: 5 × 1\n\n| Sabor &lt;chr&gt; |\n|---|\n| mora      |\n| vainilla  |\n| chocolate |\n| mora      |\n| chocolate |\n\n",
            "text/latex": "A data.frame: 5 × 1\n\\begin{tabular}{l}\n Sabor\\\\\n <chr>\\\\\n\\hline\n\t mora     \\\\\n\t vainilla \\\\\n\t chocolate\\\\\n\t mora     \\\\\n\t chocolate\\\\\n\\end{tabular}\n",
            "text/plain": [
              "  Sabor    \n",
              "1 mora     \n",
              "2 vainilla \n",
              "3 chocolate\n",
              "4 mora     \n",
              "5 chocolate"
            ]
          },
          "metadata": {}
        }
      ]
    },
    {
      "cell_type": "code",
      "source": [
        "# Extraer variables por nombre del DataFrame\n",
        "conos[c('Precio', 'Sabor')]\n"
      ],
      "metadata": {
        "colab": {
          "base_uri": "https://localhost:8080/",
          "height": 255
        },
        "id": "sQdUwwSFIIVd",
        "outputId": "804d7112-5286-4143-f3b5-8707a0dae9ed"
      },
      "execution_count": null,
      "outputs": [
        {
          "output_type": "display_data",
          "data": {
            "text/html": [
              "<table class=\"dataframe\">\n",
              "<caption>A data.frame: 5 × 2</caption>\n",
              "<thead>\n",
              "\t<tr><th scope=col>Precio</th><th scope=col>Sabor</th></tr>\n",
              "\t<tr><th scope=col>&lt;dbl&gt;</th><th scope=col>&lt;chr&gt;</th></tr>\n",
              "</thead>\n",
              "<tbody>\n",
              "\t<tr><td>3500</td><td>mora     </td></tr>\n",
              "\t<tr><td>4700</td><td>vainilla </td></tr>\n",
              "\t<tr><td>6500</td><td>chocolate</td></tr>\n",
              "\t<tr><td>5200</td><td>mora     </td></tr>\n",
              "\t<tr><td>5700</td><td>chocolate</td></tr>\n",
              "</tbody>\n",
              "</table>\n"
            ],
            "text/markdown": "\nA data.frame: 5 × 2\n\n| Precio &lt;dbl&gt; | Sabor &lt;chr&gt; |\n|---|---|\n| 3500 | mora      |\n| 4700 | vainilla  |\n| 6500 | chocolate |\n| 5200 | mora      |\n| 5700 | chocolate |\n\n",
            "text/latex": "A data.frame: 5 × 2\n\\begin{tabular}{ll}\n Precio & Sabor\\\\\n <dbl> & <chr>\\\\\n\\hline\n\t 3500 & mora     \\\\\n\t 4700 & vainilla \\\\\n\t 6500 & chocolate\\\\\n\t 5200 & mora     \\\\\n\t 5700 & chocolate\\\\\n\\end{tabular}\n",
            "text/plain": [
              "  Precio Sabor    \n",
              "1 3500   mora     \n",
              "2 4700   vainilla \n",
              "3 6500   chocolate\n",
              "4 5200   mora     \n",
              "5 5700   chocolate"
            ]
          },
          "metadata": {}
        }
      ]
    },
    {
      "cell_type": "code",
      "source": [
        "# Invertir las filas del DataFrame\n",
        "\n",
        "# nrow(conos) da el número total de filas.\n",
        "# nrow(conos):1 crea una secuencia de números decreciente (por ejemplo, de 5 a 1).\n",
        "# Al poner eso en la parte de las filas [filas, columnas], estamos seleccionando las filas en orden inverso.\n",
        "\n",
        "conos[nrow(conos):1, ]\n"
      ],
      "metadata": {
        "colab": {
          "base_uri": "https://localhost:8080/",
          "height": 255
        },
        "id": "AOwEFToYId3V",
        "outputId": "6a0f3acc-c122-42d6-8eb7-45253769aa30"
      },
      "execution_count": null,
      "outputs": [
        {
          "output_type": "display_data",
          "data": {
            "text/html": [
              "<table class=\"dataframe\">\n",
              "<caption>A data.frame: 5 × 2</caption>\n",
              "<thead>\n",
              "\t<tr><th></th><th scope=col>Sabor</th><th scope=col>Precio</th></tr>\n",
              "\t<tr><th></th><th scope=col>&lt;chr&gt;</th><th scope=col>&lt;dbl&gt;</th></tr>\n",
              "</thead>\n",
              "<tbody>\n",
              "\t<tr><th scope=row>5</th><td>chocolate</td><td>5700</td></tr>\n",
              "\t<tr><th scope=row>4</th><td>mora     </td><td>5200</td></tr>\n",
              "\t<tr><th scope=row>3</th><td>chocolate</td><td>6500</td></tr>\n",
              "\t<tr><th scope=row>2</th><td>vainilla </td><td>4700</td></tr>\n",
              "\t<tr><th scope=row>1</th><td>mora     </td><td>3500</td></tr>\n",
              "</tbody>\n",
              "</table>\n"
            ],
            "text/markdown": "\nA data.frame: 5 × 2\n\n| <!--/--> | Sabor &lt;chr&gt; | Precio &lt;dbl&gt; |\n|---|---|---|\n| 5 | chocolate | 5700 |\n| 4 | mora      | 5200 |\n| 3 | chocolate | 6500 |\n| 2 | vainilla  | 4700 |\n| 1 | mora      | 3500 |\n\n",
            "text/latex": "A data.frame: 5 × 2\n\\begin{tabular}{r|ll}\n  & Sabor & Precio\\\\\n  & <chr> & <dbl>\\\\\n\\hline\n\t5 & chocolate & 5700\\\\\n\t4 & mora      & 5200\\\\\n\t3 & chocolate & 6500\\\\\n\t2 & vainilla  & 4700\\\\\n\t1 & mora      & 3500\\\\\n\\end{tabular}\n",
            "text/plain": [
              "  Sabor     Precio\n",
              "5 chocolate 5700  \n",
              "4 mora      5200  \n",
              "3 chocolate 6500  \n",
              "2 vainilla  4700  \n",
              "1 mora      3500  "
            ]
          },
          "metadata": {}
        }
      ]
    },
    {
      "cell_type": "code",
      "source": [
        "# Seleccionar las filas 2 y 3 en R\n",
        "\n",
        "# En R, el índice empieza en 1 (no en 0 como en Python).\n",
        "# 2:3 selecciona directamente las filas 2 y 3.\n",
        "# El espacio después de la coma [,] indica \"todas las columnas\".\n",
        "\n",
        "conos[2:3, ]\n"
      ],
      "metadata": {
        "colab": {
          "base_uri": "https://localhost:8080/",
          "height": 161
        },
        "id": "qUvQwwEPKLni",
        "outputId": "bce307d9-db45-4f56-8045-c09eb822cea9"
      },
      "execution_count": null,
      "outputs": [
        {
          "output_type": "display_data",
          "data": {
            "text/html": [
              "<table class=\"dataframe\">\n",
              "<caption>A data.frame: 2 × 2</caption>\n",
              "<thead>\n",
              "\t<tr><th></th><th scope=col>Sabor</th><th scope=col>Precio</th></tr>\n",
              "\t<tr><th></th><th scope=col>&lt;chr&gt;</th><th scope=col>&lt;dbl&gt;</th></tr>\n",
              "</thead>\n",
              "<tbody>\n",
              "\t<tr><th scope=row>2</th><td>vainilla </td><td>4700</td></tr>\n",
              "\t<tr><th scope=row>3</th><td>chocolate</td><td>6500</td></tr>\n",
              "</tbody>\n",
              "</table>\n"
            ],
            "text/markdown": "\nA data.frame: 2 × 2\n\n| <!--/--> | Sabor &lt;chr&gt; | Precio &lt;dbl&gt; |\n|---|---|---|\n| 2 | vainilla  | 4700 |\n| 3 | chocolate | 6500 |\n\n",
            "text/latex": "A data.frame: 2 × 2\n\\begin{tabular}{r|ll}\n  & Sabor & Precio\\\\\n  & <chr> & <dbl>\\\\\n\\hline\n\t2 & vainilla  & 4700\\\\\n\t3 & chocolate & 6500\\\\\n\\end{tabular}\n",
            "text/plain": [
              "  Sabor     Precio\n",
              "2 vainilla  4700  \n",
              "3 chocolate 6500  "
            ]
          },
          "metadata": {}
        }
      ]
    },
    {
      "cell_type": "code",
      "source": [
        "# Organizar de forma ascendente por Sabor\n",
        "conos[order(conos$Sabor), ]\n"
      ],
      "metadata": {
        "colab": {
          "base_uri": "https://localhost:8080/",
          "height": 255
        },
        "id": "9ztENIaiLGrA",
        "outputId": "2a5b138f-6eaf-453e-8f69-fa2530eb2748"
      },
      "execution_count": null,
      "outputs": [
        {
          "output_type": "display_data",
          "data": {
            "text/html": [
              "<table class=\"dataframe\">\n",
              "<caption>A data.frame: 5 × 2</caption>\n",
              "<thead>\n",
              "\t<tr><th></th><th scope=col>Sabor</th><th scope=col>Precio</th></tr>\n",
              "\t<tr><th></th><th scope=col>&lt;chr&gt;</th><th scope=col>&lt;dbl&gt;</th></tr>\n",
              "</thead>\n",
              "<tbody>\n",
              "\t<tr><th scope=row>3</th><td>chocolate</td><td>6500</td></tr>\n",
              "\t<tr><th scope=row>5</th><td>chocolate</td><td>5700</td></tr>\n",
              "\t<tr><th scope=row>1</th><td>mora     </td><td>3500</td></tr>\n",
              "\t<tr><th scope=row>4</th><td>mora     </td><td>5200</td></tr>\n",
              "\t<tr><th scope=row>2</th><td>vainilla </td><td>4700</td></tr>\n",
              "</tbody>\n",
              "</table>\n"
            ],
            "text/markdown": "\nA data.frame: 5 × 2\n\n| <!--/--> | Sabor &lt;chr&gt; | Precio &lt;dbl&gt; |\n|---|---|---|\n| 3 | chocolate | 6500 |\n| 5 | chocolate | 5700 |\n| 1 | mora      | 3500 |\n| 4 | mora      | 5200 |\n| 2 | vainilla  | 4700 |\n\n",
            "text/latex": "A data.frame: 5 × 2\n\\begin{tabular}{r|ll}\n  & Sabor & Precio\\\\\n  & <chr> & <dbl>\\\\\n\\hline\n\t3 & chocolate & 6500\\\\\n\t5 & chocolate & 5700\\\\\n\t1 & mora      & 3500\\\\\n\t4 & mora      & 5200\\\\\n\t2 & vainilla  & 4700\\\\\n\\end{tabular}\n",
            "text/plain": [
              "  Sabor     Precio\n",
              "3 chocolate 6500  \n",
              "5 chocolate 5700  \n",
              "1 mora      3500  \n",
              "4 mora      5200  \n",
              "2 vainilla  4700  "
            ]
          },
          "metadata": {}
        }
      ]
    },
    {
      "cell_type": "code",
      "source": [
        "# Explorar desde el primer registro (primeras 2 filas)\n",
        "head(conos, 2)\n",
        "\n"
      ],
      "metadata": {
        "colab": {
          "base_uri": "https://localhost:8080/",
          "height": 161
        },
        "id": "CJ7qFoSULWgl",
        "outputId": "95f67abd-11a9-4d48-bc9c-bd0698954e01"
      },
      "execution_count": null,
      "outputs": [
        {
          "output_type": "display_data",
          "data": {
            "text/html": [
              "<table class=\"dataframe\">\n",
              "<caption>A data.frame: 2 × 2</caption>\n",
              "<thead>\n",
              "\t<tr><th></th><th scope=col>Sabor</th><th scope=col>Precio</th></tr>\n",
              "\t<tr><th></th><th scope=col>&lt;chr&gt;</th><th scope=col>&lt;dbl&gt;</th></tr>\n",
              "</thead>\n",
              "<tbody>\n",
              "\t<tr><th scope=row>1</th><td>mora    </td><td>3500</td></tr>\n",
              "\t<tr><th scope=row>2</th><td>vainilla</td><td>4700</td></tr>\n",
              "</tbody>\n",
              "</table>\n"
            ],
            "text/markdown": "\nA data.frame: 2 × 2\n\n| <!--/--> | Sabor &lt;chr&gt; | Precio &lt;dbl&gt; |\n|---|---|---|\n| 1 | mora     | 3500 |\n| 2 | vainilla | 4700 |\n\n",
            "text/latex": "A data.frame: 2 × 2\n\\begin{tabular}{r|ll}\n  & Sabor & Precio\\\\\n  & <chr> & <dbl>\\\\\n\\hline\n\t1 & mora     & 3500\\\\\n\t2 & vainilla & 4700\\\\\n\\end{tabular}\n",
            "text/plain": [
              "  Sabor    Precio\n",
              "1 mora     3500  \n",
              "2 vainilla 4700  "
            ]
          },
          "metadata": {}
        }
      ]
    },
    {
      "cell_type": "code",
      "source": [
        "# Explorar desde el último registro (últimas 2 filas)\n",
        "tail(conos, 2)\n"
      ],
      "metadata": {
        "colab": {
          "base_uri": "https://localhost:8080/",
          "height": 161
        },
        "id": "rVRopW7xLkRJ",
        "outputId": "474314f3-0b7f-4625-fb8c-ff58716f7d9c"
      },
      "execution_count": null,
      "outputs": [
        {
          "output_type": "display_data",
          "data": {
            "text/html": [
              "<table class=\"dataframe\">\n",
              "<caption>A data.frame: 2 × 2</caption>\n",
              "<thead>\n",
              "\t<tr><th></th><th scope=col>Sabor</th><th scope=col>Precio</th></tr>\n",
              "\t<tr><th></th><th scope=col>&lt;chr&gt;</th><th scope=col>&lt;dbl&gt;</th></tr>\n",
              "</thead>\n",
              "<tbody>\n",
              "\t<tr><th scope=row>4</th><td>mora     </td><td>5200</td></tr>\n",
              "\t<tr><th scope=row>5</th><td>chocolate</td><td>5700</td></tr>\n",
              "</tbody>\n",
              "</table>\n"
            ],
            "text/markdown": "\nA data.frame: 2 × 2\n\n| <!--/--> | Sabor &lt;chr&gt; | Precio &lt;dbl&gt; |\n|---|---|---|\n| 4 | mora      | 5200 |\n| 5 | chocolate | 5700 |\n\n",
            "text/latex": "A data.frame: 2 × 2\n\\begin{tabular}{r|ll}\n  & Sabor & Precio\\\\\n  & <chr> & <dbl>\\\\\n\\hline\n\t4 & mora      & 5200\\\\\n\t5 & chocolate & 5700\\\\\n\\end{tabular}\n",
            "text/plain": [
              "  Sabor     Precio\n",
              "4 mora      5200  \n",
              "5 chocolate 5700  "
            ]
          },
          "metadata": {}
        }
      ]
    },
    {
      "cell_type": "code",
      "source": [
        "# Un registro aleatorio\n",
        "\n",
        "# sample(1:nrow(conos), 1) elige un número aleatorio entre 1 y el número de filas.\n",
        "# Luego se extrae esa fila del DataFrame.\n",
        "\n",
        "conos[sample(1:nrow(conos), 1), ]\n"
      ],
      "metadata": {
        "id": "lDRN-2UNL2Tg"
      },
      "execution_count": null,
      "outputs": []
    },
    {
      "cell_type": "code",
      "source": [
        "# Estadísticas descriptivas\n",
        "summary(conos)\n"
      ],
      "metadata": {
        "colab": {
          "base_uri": "https://localhost:8080/",
          "height": 138
        },
        "id": "uE3rDEQxNqaJ",
        "outputId": "df9e37ec-58ca-4e37-8e07-a332243f9885"
      },
      "execution_count": null,
      "outputs": [
        {
          "output_type": "display_data",
          "data": {
            "text/plain": [
              "    Sabor               Precio    \n",
              " Length:5           Min.   :3500  \n",
              " Class :character   1st Qu.:4700  \n",
              " Mode  :character   Median :5200  \n",
              "                    Mean   :5120  \n",
              "                    3rd Qu.:5700  \n",
              "                    Max.   :6500  "
            ]
          },
          "metadata": {}
        }
      ]
    },
    {
      "cell_type": "code",
      "source": [
        "# Estructura del DataFrame\n",
        "str(conos)\n"
      ],
      "metadata": {
        "colab": {
          "base_uri": "https://localhost:8080/"
        },
        "id": "h9pi8FOhNtG4",
        "outputId": "6ba7aade-42ea-44ce-f0df-6fd9fb0ea0c9"
      },
      "execution_count": null,
      "outputs": [
        {
          "output_type": "stream",
          "name": "stdout",
          "text": [
            "'data.frame':\t5 obs. of  2 variables:\n",
            " $ Sabor : chr  \"mora\" \"vainilla\" \"chocolate\" \"mora\" ...\n",
            " $ Precio: num  3500 4700 6500 5200 5700\n"
          ]
        }
      ]
    },
    {
      "cell_type": "code",
      "source": [
        "# Índices (nombres de filas)\n",
        "rownames(conos)\n"
      ],
      "metadata": {
        "colab": {
          "base_uri": "https://localhost:8080/",
          "height": 34
        },
        "id": "Jr70ix6jN1jy",
        "outputId": "c6de097d-8695-4182-e5cb-876fd122b237"
      },
      "execution_count": null,
      "outputs": [
        {
          "output_type": "display_data",
          "data": {
            "text/html": [
              "<style>\n",
              ".list-inline {list-style: none; margin:0; padding: 0}\n",
              ".list-inline>li {display: inline-block}\n",
              ".list-inline>li:not(:last-child)::after {content: \"\\00b7\"; padding: 0 .5ex}\n",
              "</style>\n",
              "<ol class=list-inline><li>'1'</li><li>'2'</li><li>'3'</li><li>'4'</li><li>'5'</li></ol>\n"
            ],
            "text/markdown": "1. '1'\n2. '2'\n3. '3'\n4. '4'\n5. '5'\n\n\n",
            "text/latex": "\\begin{enumerate*}\n\\item '1'\n\\item '2'\n\\item '3'\n\\item '4'\n\\item '5'\n\\end{enumerate*}\n",
            "text/plain": [
              "[1] \"1\" \"2\" \"3\" \"4\" \"5\""
            ]
          },
          "metadata": {}
        }
      ]
    },
    {
      "cell_type": "code",
      "source": [
        "# Seleccionar Fila 4\n",
        "conos[4, ]\n"
      ],
      "metadata": {
        "colab": {
          "base_uri": "https://localhost:8080/",
          "height": 130
        },
        "id": "4fXIh2UROtmy",
        "outputId": "a3c7b967-b6b5-42db-b736-a3cd699b0844"
      },
      "execution_count": null,
      "outputs": [
        {
          "output_type": "display_data",
          "data": {
            "text/html": [
              "<table class=\"dataframe\">\n",
              "<caption>A data.frame: 1 × 2</caption>\n",
              "<thead>\n",
              "\t<tr><th></th><th scope=col>Sabor</th><th scope=col>Precio</th></tr>\n",
              "\t<tr><th></th><th scope=col>&lt;chr&gt;</th><th scope=col>&lt;dbl&gt;</th></tr>\n",
              "</thead>\n",
              "<tbody>\n",
              "\t<tr><th scope=row>4</th><td>mora</td><td>5200</td></tr>\n",
              "</tbody>\n",
              "</table>\n"
            ],
            "text/markdown": "\nA data.frame: 1 × 2\n\n| <!--/--> | Sabor &lt;chr&gt; | Precio &lt;dbl&gt; |\n|---|---|---|\n| 4 | mora | 5200 |\n\n",
            "text/latex": "A data.frame: 1 × 2\n\\begin{tabular}{r|ll}\n  & Sabor & Precio\\\\\n  & <chr> & <dbl>\\\\\n\\hline\n\t4 & mora & 5200\\\\\n\\end{tabular}\n",
            "text/plain": [
              "  Sabor Precio\n",
              "4 mora  5200  "
            ]
          },
          "metadata": {}
        }
      ]
    },
    {
      "cell_type": "code",
      "source": [
        "# Desde la fila 2 hasta el final\n",
        "conos[2:nrow(conos), ]\n"
      ],
      "metadata": {
        "colab": {
          "base_uri": "https://localhost:8080/",
          "height": 224
        },
        "id": "VjNJI2hOOxsu",
        "outputId": "3bb4fbe3-9671-4bdc-bc48-12e9ac5e57c5"
      },
      "execution_count": null,
      "outputs": [
        {
          "output_type": "display_data",
          "data": {
            "text/html": [
              "<table class=\"dataframe\">\n",
              "<caption>A data.frame: 4 × 2</caption>\n",
              "<thead>\n",
              "\t<tr><th></th><th scope=col>Sabor</th><th scope=col>Precio</th></tr>\n",
              "\t<tr><th></th><th scope=col>&lt;chr&gt;</th><th scope=col>&lt;dbl&gt;</th></tr>\n",
              "</thead>\n",
              "<tbody>\n",
              "\t<tr><th scope=row>2</th><td>vainilla </td><td>4700</td></tr>\n",
              "\t<tr><th scope=row>3</th><td>chocolate</td><td>6500</td></tr>\n",
              "\t<tr><th scope=row>4</th><td>mora     </td><td>5200</td></tr>\n",
              "\t<tr><th scope=row>5</th><td>chocolate</td><td>5700</td></tr>\n",
              "</tbody>\n",
              "</table>\n"
            ],
            "text/markdown": "\nA data.frame: 4 × 2\n\n| <!--/--> | Sabor &lt;chr&gt; | Precio &lt;dbl&gt; |\n|---|---|---|\n| 2 | vainilla  | 4700 |\n| 3 | chocolate | 6500 |\n| 4 | mora      | 5200 |\n| 5 | chocolate | 5700 |\n\n",
            "text/latex": "A data.frame: 4 × 2\n\\begin{tabular}{r|ll}\n  & Sabor & Precio\\\\\n  & <chr> & <dbl>\\\\\n\\hline\n\t2 & vainilla  & 4700\\\\\n\t3 & chocolate & 6500\\\\\n\t4 & mora      & 5200\\\\\n\t5 & chocolate & 5700\\\\\n\\end{tabular}\n",
            "text/plain": [
              "  Sabor     Precio\n",
              "2 vainilla  4700  \n",
              "3 chocolate 6500  \n",
              "4 mora      5200  \n",
              "5 chocolate 5700  "
            ]
          },
          "metadata": {}
        }
      ]
    },
    {
      "cell_type": "code",
      "source": [
        "# Filas 3 y 4\n",
        "conos[3:4, ]\n"
      ],
      "metadata": {
        "colab": {
          "base_uri": "https://localhost:8080/",
          "height": 161
        },
        "id": "IQMbiFyIO3Zj",
        "outputId": "fb435a5a-12b5-46b7-ae5e-4927b92612ba"
      },
      "execution_count": null,
      "outputs": [
        {
          "output_type": "display_data",
          "data": {
            "text/html": [
              "<table class=\"dataframe\">\n",
              "<caption>A data.frame: 2 × 2</caption>\n",
              "<thead>\n",
              "\t<tr><th></th><th scope=col>Sabor</th><th scope=col>Precio</th></tr>\n",
              "\t<tr><th></th><th scope=col>&lt;chr&gt;</th><th scope=col>&lt;dbl&gt;</th></tr>\n",
              "</thead>\n",
              "<tbody>\n",
              "\t<tr><th scope=row>3</th><td>chocolate</td><td>6500</td></tr>\n",
              "\t<tr><th scope=row>4</th><td>mora     </td><td>5200</td></tr>\n",
              "</tbody>\n",
              "</table>\n"
            ],
            "text/markdown": "\nA data.frame: 2 × 2\n\n| <!--/--> | Sabor &lt;chr&gt; | Precio &lt;dbl&gt; |\n|---|---|---|\n| 3 | chocolate | 6500 |\n| 4 | mora      | 5200 |\n\n",
            "text/latex": "A data.frame: 2 × 2\n\\begin{tabular}{r|ll}\n  & Sabor & Precio\\\\\n  & <chr> & <dbl>\\\\\n\\hline\n\t3 & chocolate & 6500\\\\\n\t4 & mora      & 5200\\\\\n\\end{tabular}\n",
            "text/plain": [
              "  Sabor     Precio\n",
              "3 chocolate 6500  \n",
              "4 mora      5200  "
            ]
          },
          "metadata": {}
        }
      ]
    },
    {
      "cell_type": "code",
      "source": [
        "# Filas 2 y 5\n",
        "conos[c(2,5), ]\n"
      ],
      "metadata": {
        "colab": {
          "base_uri": "https://localhost:8080/",
          "height": 161
        },
        "id": "DxBWCopMO9j0",
        "outputId": "c1211f66-e9e7-441f-c0db-875268757ed2"
      },
      "execution_count": null,
      "outputs": [
        {
          "output_type": "display_data",
          "data": {
            "text/html": [
              "<table class=\"dataframe\">\n",
              "<caption>A data.frame: 2 × 2</caption>\n",
              "<thead>\n",
              "\t<tr><th></th><th scope=col>Sabor</th><th scope=col>Precio</th></tr>\n",
              "\t<tr><th></th><th scope=col>&lt;chr&gt;</th><th scope=col>&lt;dbl&gt;</th></tr>\n",
              "</thead>\n",
              "<tbody>\n",
              "\t<tr><th scope=row>2</th><td>vainilla </td><td>4700</td></tr>\n",
              "\t<tr><th scope=row>5</th><td>chocolate</td><td>5700</td></tr>\n",
              "</tbody>\n",
              "</table>\n"
            ],
            "text/markdown": "\nA data.frame: 2 × 2\n\n| <!--/--> | Sabor &lt;chr&gt; | Precio &lt;dbl&gt; |\n|---|---|---|\n| 2 | vainilla  | 4700 |\n| 5 | chocolate | 5700 |\n\n",
            "text/latex": "A data.frame: 2 × 2\n\\begin{tabular}{r|ll}\n  & Sabor & Precio\\\\\n  & <chr> & <dbl>\\\\\n\\hline\n\t2 & vainilla  & 4700\\\\\n\t5 & chocolate & 5700\\\\\n\\end{tabular}\n",
            "text/plain": [
              "  Sabor     Precio\n",
              "2 vainilla  4700  \n",
              "5 chocolate 5700  "
            ]
          },
          "metadata": {}
        }
      ]
    },
    {
      "cell_type": "code",
      "source": [
        "# Precio en la fila 3\n",
        "conos[3, \"Precio\"]\n"
      ],
      "metadata": {
        "colab": {
          "base_uri": "https://localhost:8080/",
          "height": 34
        },
        "id": "-tSZASObPnS7",
        "outputId": "94969231-91a8-4829-be94-26ab9b3fb74e"
      },
      "execution_count": null,
      "outputs": [
        {
          "output_type": "display_data",
          "data": {
            "text/html": [
              "6500"
            ],
            "text/markdown": "6500",
            "text/latex": "6500",
            "text/plain": [
              "[1] 6500"
            ]
          },
          "metadata": {}
        }
      ]
    },
    {
      "cell_type": "code",
      "source": [
        "# Otra forma usando $ (acceso directo a columna)\n",
        "conos$Precio[3]\n"
      ],
      "metadata": {
        "colab": {
          "base_uri": "https://localhost:8080/",
          "height": 34
        },
        "id": "6M4hdrwaPobB",
        "outputId": "2066c83a-9f05-4a78-8400-fd5a449f639a"
      },
      "execution_count": null,
      "outputs": [
        {
          "output_type": "display_data",
          "data": {
            "text/html": [
              "6500"
            ],
            "text/markdown": "6500",
            "text/latex": "6500",
            "text/plain": [
              "[1] 6500"
            ]
          },
          "metadata": {}
        }
      ]
    },
    {
      "cell_type": "markdown",
      "source": [
        "# Indices personalizados y Condicones Logicas"
      ],
      "metadata": {
        "id": "I-obRMwobSoq"
      }
    },
    {
      "cell_type": "code",
      "source": [
        "# Crear rownames únicos automáticos\n",
        "rownames(conos) <- make.unique(as.character(conos$Sabor))\n",
        "conos\n"
      ],
      "metadata": {
        "id": "V1MavRqwaIO-",
        "colab": {
          "base_uri": "https://localhost:8080/",
          "height": 287
        },
        "outputId": "677d64aa-0e35-4c63-d966-1d2e23af4294"
      },
      "execution_count": 30,
      "outputs": [
        {
          "output_type": "display_data",
          "data": {
            "text/html": [
              "<table class=\"dataframe\">\n",
              "<caption>A data.frame: 6 × 2</caption>\n",
              "<thead>\n",
              "\t<tr><th></th><th scope=col>Sabor</th><th scope=col>Precio</th></tr>\n",
              "\t<tr><th></th><th scope=col>&lt;chr&gt;</th><th scope=col>&lt;dbl&gt;</th></tr>\n",
              "</thead>\n",
              "<tbody>\n",
              "\t<tr><th scope=row>mora</th><td>mora     </td><td>3500</td></tr>\n",
              "\t<tr><th scope=row>vainilla</th><td>vainilla </td><td>4700</td></tr>\n",
              "\t<tr><th scope=row>chocolate</th><td>chocolate</td><td>6500</td></tr>\n",
              "\t<tr><th scope=row>mora.1</th><td>mora     </td><td>5200</td></tr>\n",
              "\t<tr><th scope=row>mora.2</th><td>mora     </td><td>4000</td></tr>\n",
              "\t<tr><th scope=row>chocolate.1</th><td>chocolate</td><td>5700</td></tr>\n",
              "</tbody>\n",
              "</table>\n"
            ],
            "text/markdown": "\nA data.frame: 6 × 2\n\n| <!--/--> | Sabor &lt;chr&gt; | Precio &lt;dbl&gt; |\n|---|---|---|\n| mora | mora      | 3500 |\n| vainilla | vainilla  | 4700 |\n| chocolate | chocolate | 6500 |\n| mora.1 | mora      | 5200 |\n| mora.2 | mora      | 4000 |\n| chocolate.1 | chocolate | 5700 |\n\n",
            "text/latex": "A data.frame: 6 × 2\n\\begin{tabular}{r|ll}\n  & Sabor & Precio\\\\\n  & <chr> & <dbl>\\\\\n\\hline\n\tmora & mora      & 3500\\\\\n\tvainilla & vainilla  & 4700\\\\\n\tchocolate & chocolate & 6500\\\\\n\tmora.1 & mora      & 5200\\\\\n\tmora.2 & mora      & 4000\\\\\n\tchocolate.1 & chocolate & 5700\\\\\n\\end{tabular}\n",
            "text/plain": [
              "            Sabor     Precio\n",
              "mora        mora      3500  \n",
              "vainilla    vainilla  4700  \n",
              "chocolate   chocolate 6500  \n",
              "mora.1      mora      5200  \n",
              "mora.2      mora      4000  \n",
              "chocolate.1 chocolate 5700  "
            ]
          },
          "metadata": {}
        }
      ]
    },
    {
      "cell_type": "code",
      "source": [
        "# Mostrar nombres de fila (rownames)\n",
        "rownames(conos)\n"
      ],
      "metadata": {
        "colab": {
          "base_uri": "https://localhost:8080/",
          "height": 34
        },
        "id": "RZluxNzFbdno",
        "outputId": "26515384-a032-40f6-d7b1-26e62111f4cb"
      },
      "execution_count": 32,
      "outputs": [
        {
          "output_type": "display_data",
          "data": {
            "text/html": [
              "<style>\n",
              ".list-inline {list-style: none; margin:0; padding: 0}\n",
              ".list-inline>li {display: inline-block}\n",
              ".list-inline>li:not(:last-child)::after {content: \"\\00b7\"; padding: 0 .5ex}\n",
              "</style>\n",
              "<ol class=list-inline><li>'mora'</li><li>'vainilla'</li><li>'chocolate'</li><li>'mora.1'</li><li>'mora.2'</li><li>'chocolate.1'</li></ol>\n"
            ],
            "text/markdown": "1. 'mora'\n2. 'vainilla'\n3. 'chocolate'\n4. 'mora.1'\n5. 'mora.2'\n6. 'chocolate.1'\n\n\n",
            "text/latex": "\\begin{enumerate*}\n\\item 'mora'\n\\item 'vainilla'\n\\item 'chocolate'\n\\item 'mora.1'\n\\item 'mora.2'\n\\item 'chocolate.1'\n\\end{enumerate*}\n",
            "text/plain": [
              "[1] \"mora\"        \"vainilla\"    \"chocolate\"   \"mora.1\"      \"mora.2\"     \n",
              "[6] \"chocolate.1\""
            ]
          },
          "metadata": {}
        }
      ]
    },
    {
      "cell_type": "code",
      "source": [
        "View(conos)  # Abre una ventana de tabla con los rownames visibles\n"
      ],
      "metadata": {
        "colab": {
          "base_uri": "https://localhost:8080/",
          "height": 287
        },
        "id": "UJ1hemC9cIRf",
        "outputId": "7ddd823b-cdb3-46d2-efcd-0da81214479f"
      },
      "execution_count": 33,
      "outputs": [
        {
          "output_type": "display_data",
          "data": {
            "text/plain": [
              "            Sabor     Precio\n",
              "mora        mora      3500  \n",
              "vainilla    vainilla  4700  \n",
              "chocolate   chocolate 6500  \n",
              "mora.1      mora      5200  \n",
              "mora.2      mora      4000  \n",
              "chocolate.1 chocolate 5700  "
            ],
            "text/html": [
              "<table class=\"dataframe\">\n",
              "<caption>A data.frame: 6 × 2</caption>\n",
              "<thead>\n",
              "\t<tr><th></th><th scope=col>Sabor</th><th scope=col>Precio</th></tr>\n",
              "\t<tr><th></th><th scope=col>&lt;chr&gt;</th><th scope=col>&lt;dbl&gt;</th></tr>\n",
              "</thead>\n",
              "<tbody>\n",
              "\t<tr><th scope=row>mora</th><td>mora     </td><td>3500</td></tr>\n",
              "\t<tr><th scope=row>vainilla</th><td>vainilla </td><td>4700</td></tr>\n",
              "\t<tr><th scope=row>chocolate</th><td>chocolate</td><td>6500</td></tr>\n",
              "\t<tr><th scope=row>mora.1</th><td>mora     </td><td>5200</td></tr>\n",
              "\t<tr><th scope=row>mora.2</th><td>mora     </td><td>4000</td></tr>\n",
              "\t<tr><th scope=row>chocolate.1</th><td>chocolate</td><td>5700</td></tr>\n",
              "</tbody>\n",
              "</table>\n"
            ],
            "text/markdown": "\nA data.frame: 6 × 2\n\n| <!--/--> | Sabor &lt;chr&gt; | Precio &lt;dbl&gt; |\n|---|---|---|\n| mora | mora      | 3500 |\n| vainilla | vainilla  | 4700 |\n| chocolate | chocolate | 6500 |\n| mora.1 | mora      | 5200 |\n| mora.2 | mora      | 4000 |\n| chocolate.1 | chocolate | 5700 |\n\n",
            "text/latex": "A data.frame: 6 × 2\n\\begin{tabular}{r|ll}\n  & Sabor & Precio\\\\\n  & <chr> & <dbl>\\\\\n\\hline\n\tmora & mora      & 3500\\\\\n\tvainilla & vainilla  & 4700\\\\\n\tchocolate & chocolate & 6500\\\\\n\tmora.1 & mora      & 5200\\\\\n\tmora.2 & mora      & 4000\\\\\n\tchocolate.1 & chocolate & 5700\\\\\n\\end{tabular}\n"
          },
          "metadata": {}
        }
      ]
    },
    {
      "cell_type": "code",
      "source": [
        "# Seleccionar fila con nombre 'chocolate' (usando rownames)\n",
        "conos[\"chocolate\", ]\n"
      ],
      "metadata": {
        "colab": {
          "base_uri": "https://localhost:8080/",
          "height": 130
        },
        "id": "W-5KtLC5cMsW",
        "outputId": "00429638-b151-41c7-9ccd-00c54f90f926"
      },
      "execution_count": 35,
      "outputs": [
        {
          "output_type": "display_data",
          "data": {
            "text/html": [
              "<table class=\"dataframe\">\n",
              "<caption>A data.frame: 1 × 2</caption>\n",
              "<thead>\n",
              "\t<tr><th></th><th scope=col>Sabor</th><th scope=col>Precio</th></tr>\n",
              "\t<tr><th></th><th scope=col>&lt;chr&gt;</th><th scope=col>&lt;dbl&gt;</th></tr>\n",
              "</thead>\n",
              "<tbody>\n",
              "\t<tr><th scope=row>chocolate</th><td>chocolate</td><td>6500</td></tr>\n",
              "</tbody>\n",
              "</table>\n"
            ],
            "text/markdown": "\nA data.frame: 1 × 2\n\n| <!--/--> | Sabor &lt;chr&gt; | Precio &lt;dbl&gt; |\n|---|---|---|\n| chocolate | chocolate | 6500 |\n\n",
            "text/latex": "A data.frame: 1 × 2\n\\begin{tabular}{r|ll}\n  & Sabor & Precio\\\\\n  & <chr> & <dbl>\\\\\n\\hline\n\tchocolate & chocolate & 6500\\\\\n\\end{tabular}\n",
            "text/plain": [
              "          Sabor     Precio\n",
              "chocolate chocolate 6500  "
            ]
          },
          "metadata": {}
        }
      ]
    },
    {
      "cell_type": "code",
      "source": [
        "# Precio del sabor 'vainilla'\n",
        "conos[\"vainilla\", \"Precio\"]\n"
      ],
      "metadata": {
        "colab": {
          "base_uri": "https://localhost:8080/",
          "height": 34
        },
        "id": "U1Jovxj3cgd3",
        "outputId": "9d763d9d-98b6-40b4-cc3f-83bb0d270ba9"
      },
      "execution_count": 36,
      "outputs": [
        {
          "output_type": "display_data",
          "data": {
            "text/html": [
              "4700"
            ],
            "text/markdown": "4700",
            "text/latex": "4700",
            "text/plain": [
              "[1] 4700"
            ]
          },
          "metadata": {}
        }
      ]
    },
    {
      "cell_type": "markdown",
      "source": [
        "# Filtro por condicion logica"
      ],
      "metadata": {
        "id": "Xi0QPhbTejm3"
      }
    },
    {
      "cell_type": "code",
      "source": [
        "# Filtro lógico\n",
        "conos_i$Precio > 5000\n",
        "\n",
        "# Aplicar el filtro\n",
        "conos_i[conos_i$Precio > 5000, ]\n"
      ],
      "metadata": {
        "colab": {
          "base_uri": "https://localhost:8080/",
          "height": 210
        },
        "id": "dVCSY6IzepRQ",
        "outputId": "89c189e5-3441-478d-ff93-b869de3e8d81"
      },
      "execution_count": 37,
      "outputs": [
        {
          "output_type": "display_data",
          "data": {
            "text/html": [
              "<style>\n",
              ".list-inline {list-style: none; margin:0; padding: 0}\n",
              ".list-inline>li {display: inline-block}\n",
              ".list-inline>li:not(:last-child)::after {content: \"\\00b7\"; padding: 0 .5ex}\n",
              "</style>\n",
              "<ol class=list-inline><li>FALSE</li><li>FALSE</li><li>TRUE</li><li>TRUE</li><li>TRUE</li></ol>\n"
            ],
            "text/markdown": "1. FALSE\n2. FALSE\n3. TRUE\n4. TRUE\n5. TRUE\n\n\n",
            "text/latex": "\\begin{enumerate*}\n\\item FALSE\n\\item FALSE\n\\item TRUE\n\\item TRUE\n\\item TRUE\n\\end{enumerate*}\n",
            "text/plain": [
              "[1] FALSE FALSE  TRUE  TRUE  TRUE"
            ]
          },
          "metadata": {}
        },
        {
          "output_type": "display_data",
          "data": {
            "text/html": [
              "<table class=\"dataframe\">\n",
              "<caption>A data.frame: 3 × 2</caption>\n",
              "<thead>\n",
              "\t<tr><th></th><th scope=col>Sabor</th><th scope=col>Precio</th></tr>\n",
              "\t<tr><th></th><th scope=col>&lt;chr&gt;</th><th scope=col>&lt;dbl&gt;</th></tr>\n",
              "</thead>\n",
              "<tbody>\n",
              "\t<tr><th scope=row>3</th><td>chocolate</td><td>6500</td></tr>\n",
              "\t<tr><th scope=row>4</th><td>mora     </td><td>5200</td></tr>\n",
              "\t<tr><th scope=row>5</th><td>chocolate</td><td>5700</td></tr>\n",
              "</tbody>\n",
              "</table>\n"
            ],
            "text/markdown": "\nA data.frame: 3 × 2\n\n| <!--/--> | Sabor &lt;chr&gt; | Precio &lt;dbl&gt; |\n|---|---|---|\n| 3 | chocolate | 6500 |\n| 4 | mora      | 5200 |\n| 5 | chocolate | 5700 |\n\n",
            "text/latex": "A data.frame: 3 × 2\n\\begin{tabular}{r|ll}\n  & Sabor & Precio\\\\\n  & <chr> & <dbl>\\\\\n\\hline\n\t3 & chocolate & 6500\\\\\n\t4 & mora      & 5200\\\\\n\t5 & chocolate & 5700\\\\\n\\end{tabular}\n",
            "text/plain": [
              "  Sabor     Precio\n",
              "3 chocolate 6500  \n",
              "4 mora      5200  \n",
              "5 chocolate 5700  "
            ]
          },
          "metadata": {}
        }
      ]
    },
    {
      "cell_type": "code",
      "source": [
        "# Fitro directamente\n",
        "conos[conos$Precio > 5000, ]\n"
      ],
      "metadata": {
        "colab": {
          "base_uri": "https://localhost:8080/",
          "height": 192
        },
        "id": "XNEikF6OexdJ",
        "outputId": "e090d003-75b2-4943-c863-7e89874bde80"
      },
      "execution_count": 38,
      "outputs": [
        {
          "output_type": "display_data",
          "data": {
            "text/html": [
              "<table class=\"dataframe\">\n",
              "<caption>A data.frame: 3 × 2</caption>\n",
              "<thead>\n",
              "\t<tr><th></th><th scope=col>Sabor</th><th scope=col>Precio</th></tr>\n",
              "\t<tr><th></th><th scope=col>&lt;chr&gt;</th><th scope=col>&lt;dbl&gt;</th></tr>\n",
              "</thead>\n",
              "<tbody>\n",
              "\t<tr><th scope=row>chocolate</th><td>chocolate</td><td>6500</td></tr>\n",
              "\t<tr><th scope=row>mora.1</th><td>mora     </td><td>5200</td></tr>\n",
              "\t<tr><th scope=row>chocolate.1</th><td>chocolate</td><td>5700</td></tr>\n",
              "</tbody>\n",
              "</table>\n"
            ],
            "text/markdown": "\nA data.frame: 3 × 2\n\n| <!--/--> | Sabor &lt;chr&gt; | Precio &lt;dbl&gt; |\n|---|---|---|\n| chocolate | chocolate | 6500 |\n| mora.1 | mora      | 5200 |\n| chocolate.1 | chocolate | 5700 |\n\n",
            "text/latex": "A data.frame: 3 × 2\n\\begin{tabular}{r|ll}\n  & Sabor & Precio\\\\\n  & <chr> & <dbl>\\\\\n\\hline\n\tchocolate & chocolate & 6500\\\\\n\tmora.1 & mora      & 5200\\\\\n\tchocolate.1 & chocolate & 5700\\\\\n\\end{tabular}\n",
            "text/plain": [
              "            Sabor     Precio\n",
              "chocolate   chocolate 6500  \n",
              "mora.1      mora      5200  \n",
              "chocolate.1 chocolate 5700  "
            ]
          },
          "metadata": {}
        }
      ]
    },
    {
      "cell_type": "markdown",
      "source": [
        "# Filtro con mascara TRUE FALSE"
      ],
      "metadata": {
        "id": "dyZTvKYNe7oR"
      }
    },
    {
      "cell_type": "code",
      "source": [
        "conos$Precio > 5000\n",
        "conos[conos$Precio > 5000, ]\n"
      ],
      "metadata": {
        "colab": {
          "base_uri": "https://localhost:8080/",
          "height": 210
        },
        "id": "U6o9zKJke7Rq",
        "outputId": "42d917c2-aaed-4748-a18c-2a7fb6fe011b"
      },
      "execution_count": 39,
      "outputs": [
        {
          "output_type": "display_data",
          "data": {
            "text/html": [
              "<style>\n",
              ".list-inline {list-style: none; margin:0; padding: 0}\n",
              ".list-inline>li {display: inline-block}\n",
              ".list-inline>li:not(:last-child)::after {content: \"\\00b7\"; padding: 0 .5ex}\n",
              "</style>\n",
              "<ol class=list-inline><li>FALSE</li><li>FALSE</li><li>TRUE</li><li>TRUE</li><li>FALSE</li><li>TRUE</li></ol>\n"
            ],
            "text/markdown": "1. FALSE\n2. FALSE\n3. TRUE\n4. TRUE\n5. FALSE\n6. TRUE\n\n\n",
            "text/latex": "\\begin{enumerate*}\n\\item FALSE\n\\item FALSE\n\\item TRUE\n\\item TRUE\n\\item FALSE\n\\item TRUE\n\\end{enumerate*}\n",
            "text/plain": [
              "[1] FALSE FALSE  TRUE  TRUE FALSE  TRUE"
            ]
          },
          "metadata": {}
        },
        {
          "output_type": "display_data",
          "data": {
            "text/html": [
              "<table class=\"dataframe\">\n",
              "<caption>A data.frame: 3 × 2</caption>\n",
              "<thead>\n",
              "\t<tr><th></th><th scope=col>Sabor</th><th scope=col>Precio</th></tr>\n",
              "\t<tr><th></th><th scope=col>&lt;chr&gt;</th><th scope=col>&lt;dbl&gt;</th></tr>\n",
              "</thead>\n",
              "<tbody>\n",
              "\t<tr><th scope=row>chocolate</th><td>chocolate</td><td>6500</td></tr>\n",
              "\t<tr><th scope=row>mora.1</th><td>mora     </td><td>5200</td></tr>\n",
              "\t<tr><th scope=row>chocolate.1</th><td>chocolate</td><td>5700</td></tr>\n",
              "</tbody>\n",
              "</table>\n"
            ],
            "text/markdown": "\nA data.frame: 3 × 2\n\n| <!--/--> | Sabor &lt;chr&gt; | Precio &lt;dbl&gt; |\n|---|---|---|\n| chocolate | chocolate | 6500 |\n| mora.1 | mora      | 5200 |\n| chocolate.1 | chocolate | 5700 |\n\n",
            "text/latex": "A data.frame: 3 × 2\n\\begin{tabular}{r|ll}\n  & Sabor & Precio\\\\\n  & <chr> & <dbl>\\\\\n\\hline\n\tchocolate & chocolate & 6500\\\\\n\tmora.1 & mora      & 5200\\\\\n\tchocolate.1 & chocolate & 5700\\\\\n\\end{tabular}\n",
            "text/plain": [
              "            Sabor     Precio\n",
              "chocolate   chocolate 6500  \n",
              "mora.1      mora      5200  \n",
              "chocolate.1 chocolate 5700  "
            ]
          },
          "metadata": {}
        }
      ]
    },
    {
      "cell_type": "markdown",
      "source": [
        "# Condición múltiple: chocolate con precio < 6000\n"
      ],
      "metadata": {
        "id": "pF2lrFsHfJhV"
      }
    },
    {
      "cell_type": "code",
      "source": [
        "conos[conos$Precio < 6000 & conos$Sabor == \"chocolate\", ]\n"
      ],
      "metadata": {
        "colab": {
          "base_uri": "https://localhost:8080/",
          "height": 130
        },
        "id": "zUPumNIveyXu",
        "outputId": "84bf91d6-e8d3-4fb3-bf70-151aeb717090"
      },
      "execution_count": 41,
      "outputs": [
        {
          "output_type": "display_data",
          "data": {
            "text/html": [
              "<table class=\"dataframe\">\n",
              "<caption>A data.frame: 1 × 2</caption>\n",
              "<thead>\n",
              "\t<tr><th></th><th scope=col>Sabor</th><th scope=col>Precio</th></tr>\n",
              "\t<tr><th></th><th scope=col>&lt;chr&gt;</th><th scope=col>&lt;dbl&gt;</th></tr>\n",
              "</thead>\n",
              "<tbody>\n",
              "\t<tr><th scope=row>chocolate.1</th><td>chocolate</td><td>5700</td></tr>\n",
              "</tbody>\n",
              "</table>\n"
            ],
            "text/markdown": "\nA data.frame: 1 × 2\n\n| <!--/--> | Sabor &lt;chr&gt; | Precio &lt;dbl&gt; |\n|---|---|---|\n| chocolate.1 | chocolate | 5700 |\n\n",
            "text/latex": "A data.frame: 1 × 2\n\\begin{tabular}{r|ll}\n  & Sabor & Precio\\\\\n  & <chr> & <dbl>\\\\\n\\hline\n\tchocolate.1 & chocolate & 5700\\\\\n\\end{tabular}\n",
            "text/plain": [
              "            Sabor     Precio\n",
              "chocolate.1 chocolate 5700  "
            ]
          },
          "metadata": {}
        }
      ]
    },
    {
      "cell_type": "code",
      "source": [],
      "metadata": {
        "id": "1ybcGr6qfING"
      },
      "execution_count": null,
      "outputs": []
    }
  ]
}